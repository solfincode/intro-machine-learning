{
 "cells": [
  {
   "cell_type": "markdown",
   "id": "58929bff",
   "metadata": {},
   "source": [
    "### 1. Machine learning?\n",
    "\n",
    "computer program that uses algorithm to analyze data or to make predictions based on data\n",
    "\n",
    "#### 1. example\n",
    "- self driving car\n",
    "- email spam filter\n",
    "\n",
    "#### 2. how it works (aka spam email detection)\n",
    "- collect email data as input data (x-value)\n",
    "- put those data into algorithm and make caterogy based on feature\n",
    "- analyze data and find pattern of spam email \n",
    "\n",
    "#### 3. type of machine learning\n",
    "- #### supervised learning\n",
    "    - x-value as input and y-value as target(prediction). There will be full dataset of x,y value and machine need to find relationship between x,y value. Once machine find relationship and they can predict and print y-value\n",
    "     - #### linear regression\n",
    "    $$y = w1*x1 + w2*x2 + ..... + c$$\n",
    "        - x (input)\n",
    "        - y (target prediction)\n",
    "        - w (weight parameter for modeling)\n",
    "        \n",
    "     - #### classification - email spam filter\n",
    "    \n",
    "    \n",
    "- #### unsupervised learning\n",
    "    - In this method, there will x value but no y value\n",
    "- #### reinforced learning\n",
    "\n"
   ]
  },
  {
   "cell_type": "markdown",
   "id": "d535ef24",
   "metadata": {},
   "source": [
    "#### A. Linear Regression\n",
    "- make prediction for house price\n",
    " $$y = w1*x1 + w2*x2 + ..... + c$$\n",
    "        - x (size of house or number of room etc)\n",
    "        - y (price of house)\n",
    "        - w (weight parameter for modeling)\n",
    "        - c (intercept)\n",
    "        \n",
    "          \n",
    "- cost function = predict value - actual value\n",
    "    - MSE(mean squared error) measure average squares of error This calculate with average squared with predict value minus actual value \n",
    "            "
   ]
  },
  {
   "cell_type": "code",
   "execution_count": null,
   "id": "89e0aa8d",
   "metadata": {},
   "outputs": [],
   "source": []
  }
 ],
 "metadata": {
  "kernelspec": {
   "display_name": "Python 3 (ipykernel)",
   "language": "python",
   "name": "python3"
  },
  "language_info": {
   "codemirror_mode": {
    "name": "ipython",
    "version": 3
   },
   "file_extension": ".py",
   "mimetype": "text/x-python",
   "name": "python",
   "nbconvert_exporter": "python",
   "pygments_lexer": "ipython3",
   "version": "3.9.12"
  }
 },
 "nbformat": 4,
 "nbformat_minor": 5
}
