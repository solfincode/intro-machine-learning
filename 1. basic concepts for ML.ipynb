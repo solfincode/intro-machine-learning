{
 "cells": [
  {
   "cell_type": "markdown",
   "id": "58929bff",
   "metadata": {},
   "source": [
    "### 1. Machine learning?\n",
    "\n",
    "computer program that uses algorithm to analyze data or to make predictions based on data\n",
    "\n",
    "#### 1. example\n",
    "- self driving car\n",
    "- email spam filter\n",
    "\n",
    "#### 2. how it works (aka spam email detection)\n",
    "- collect email data as input data (x-value)\n",
    "- put those data into algorithm and make caterogy based on feature\n",
    "- analyze data and find pattern of spam email \n",
    "\n",
    "#### 3. type of machine learning\n",
    "#### - supervised learning\n",
    "x-value as input and y-value as target(prediction). There will be full dataset of x,y value and machine need to find relationship between x,y value. Once machine find relationship and they can predict and print y-value\n",
    "        \n",
    "    - linear regression\n",
    "    x (input), y (target prediction), w (weight parameter for modeling)\n",
    "$$y = w_1*x_1 + w_2*x_2 + ..... + c$$\n",
    "\n",
    "\n",
    "        \n",
    "    - classification - email spam filter\n",
    "    \n",
    "    \n",
    " #### - unsupervised learning\n",
    "    - In this method, there will x value but no y value\n",
    " #### - reinforced learning\n",
    "\n"
   ]
  },
  {
   "cell_type": "markdown",
   "id": "d535ef24",
   "metadata": {},
   "source": [
    "#### A. Linear Regression\n",
    "- make prediction for house price\n",
    " $$y = w_1*x_1 + w_2*x_2 + ..... + c$$\n",
    "        - x (size of house or number of room etc)\n",
    "        - y (price of house)\n",
    "        - w (weight parameter for modeling)\n",
    "        - c (intercept)\n",
    "        \n",
    "          \n",
    "- **cost function(J)** = predict value(Y) - actual value(A)    \n",
    "\n",
    "$$y_p = prediction value $$\n",
    "$$y_a = actual value $$\n",
    "$$H = cost function $$\n",
    "            "
   ]
  },
  {
   "cell_type": "markdown",
   "id": "b74f5abf",
   "metadata": {},
   "source": [
    "$$J(\\theta) = \\frac{1}{m} + \\sum_{k=0}^{m} |(Y_p - Y_a)| $$"
   ]
  },
  {
   "cell_type": "markdown",
   "id": "cef1f816",
   "metadata": {},
   "source": [
    "**MSE(mean squared error)** measure average squares of error This calculate with average squared with predict value minus actual value \n"
   ]
  },
  {
   "cell_type": "markdown",
   "id": "f36fdbb9",
   "metadata": {},
   "source": [
    "$$MSE = \\frac{1}{m} + \\sum_{k=0}^{m}(Y_p - Y_a)^2 $$"
   ]
  },
  {
   "cell_type": "markdown",
   "id": "09e914f4",
   "metadata": {},
   "source": [
    "**Gradient Descent** - optimized algorithm"
   ]
  },
  {
   "cell_type": "markdown",
   "id": "0a8085fd",
   "metadata": {},
   "source": [
    "$$\\frac{\\partial}{\\partial \\theta} * J(\\theta) = \\frac{\\partial}{m} + \\sum_{k=0}^{m}(Y_p - Y_a)^2)$$"
   ]
  },
  {
   "cell_type": "code",
   "execution_count": null,
   "id": "a347146b",
   "metadata": {},
   "outputs": [],
   "source": []
  }
 ],
 "metadata": {
  "kernelspec": {
   "display_name": "Python 3 (ipykernel)",
   "language": "python",
   "name": "python3"
  },
  "language_info": {
   "codemirror_mode": {
    "name": "ipython",
    "version": 3
   },
   "file_extension": ".py",
   "mimetype": "text/x-python",
   "name": "python",
   "nbconvert_exporter": "python",
   "pygments_lexer": "ipython3",
   "version": "3.9.12"
  }
 },
 "nbformat": 4,
 "nbformat_minor": 5
}
