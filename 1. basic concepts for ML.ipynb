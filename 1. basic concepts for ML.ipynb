{
 "cells": [
  {
   "cell_type": "markdown",
   "id": "58929bff",
   "metadata": {},
   "source": [
    "### 1. Machine learning?\n",
    "\n",
    "computer program that uses algorithm to analyze data or to make predictions based on data\n",
    "\n",
    "#### 1. example\n",
    "- self driving car\n",
    "- email spam filter\n",
    "\n",
    "#### 2. how it works (aka spam email detection)\n",
    "- collect email data as input data (x-value)\n",
    "- put those data into algorithm and make caterogy based on feature\n",
    "- analyze data and find pattern of spam email \n",
    "\n",
    "#### 3. type of machine learning\n",
    "- supervised learning\n",
    "    - regression - make prediction for house price\n",
    "    - classification - email spam filter\n",
    "- unsupervised learning\n",
    "- reinforced learning\n",
    "\n",
    "#### 4. overfit vs underfit"
   ]
  },
  {
   "cell_type": "code",
   "execution_count": null,
   "id": "7c484e04",
   "metadata": {},
   "outputs": [],
   "source": []
  }
 ],
 "metadata": {
  "kernelspec": {
   "display_name": "Python 3 (ipykernel)",
   "language": "python",
   "name": "python3"
  },
  "language_info": {
   "codemirror_mode": {
    "name": "ipython",
    "version": 3
   },
   "file_extension": ".py",
   "mimetype": "text/x-python",
   "name": "python",
   "nbconvert_exporter": "python",
   "pygments_lexer": "ipython3",
   "version": "3.9.12"
  }
 },
 "nbformat": 4,
 "nbformat_minor": 5
}
