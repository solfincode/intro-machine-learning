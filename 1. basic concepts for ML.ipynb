{
 "cells": [
  {
   "cell_type": "markdown",
   "id": "58929bff",
   "metadata": {},
   "source": [
    "# 1. Machine learning?\n",
    "\n",
    "computer program that uses algorithm to make decisions or to make predictions based on data\n",
    "\n",
    "### 1. example\n",
    "- self driving car\n",
    "- email spam filter\n",
    "\n",
    "### 2. how it works (remember-formulate-predict)\n",
    "- **remember**: collect email data as input data (x-value)\n",
    "- **formulate**: put those data into algorithm and find pattern of spam email based on data\n",
    "- **predict**: find spam email based on formulated pattern of data machine learned\n",
    "\n"
   ]
  },
  {
   "cell_type": "markdown",
   "id": "03e7fda3",
   "metadata": {},
   "source": [
    "### 3. type of machine learning\n",
    "1. supervised learning\n",
    "2. unsupervised learning\n",
    "3. reinforced learning"
   ]
  },
  {
   "cell_type": "markdown",
   "id": "82a8ed84",
   "metadata": {},
   "source": [
    "#### supervised learning\n",
    "x-value as input and y-value as labeled data. There will be full dataset of x,y value and machine need to find relationship between x,y value. Once machine find relationship and they can predict y-value\n",
    "        \n",
    "    - linear regression \n",
    "        - predict numerical data\n",
    "        - house price prediction\n",
    "        - stock price prediction\n",
    "    - classification \n",
    "        - predict categorical data\n",
    "        - email spam filter app\n",
    "        - image recognition app\n"
   ]
  },
  {
   "cell_type": "markdown",
   "id": "4260d6ed",
   "metadata": {},
   "source": [
    "#### unsupervised learning\n",
    "machine find the pattern of feature using unlabled data\n",
    "\n",
    "- <b>cluster algorithm:</b> make group of data together based on similarity\n",
    "    - algorithm\n",
    "        - k-means clustering\n",
    "        - hierachical clustering\n",
    "        - density-based spatial clustering\n",
    "        - gaussian mixture models\n",
    "    - Example\n",
    "        - market segmentation\n",
    "        - genetics\n",
    "        - medical imaging\n",
    "        - video recommendation\n",
    "- <b>dimensionality reduction algorithm:</b> reduce size of features by simpifying data\n",
    "- <b>generative algorithm:</b> generate new data set based on current one"
   ]
  },
  {
   "cell_type": "markdown",
   "id": "954aea51",
   "metadata": {},
   "source": [
    "#### reinforced learning\n",
    "no data is given on model. Model get an environment to navigate through and agent have a goal. The environment give reward and punishment to agent so that agent can improve quality of learning by itself"
   ]
  }
 ],
 "metadata": {
  "kernelspec": {
   "display_name": "Python 3 (ipykernel)",
   "language": "python",
   "name": "python3"
  },
  "language_info": {
   "codemirror_mode": {
    "name": "ipython",
    "version": 3
   },
   "file_extension": ".py",
   "mimetype": "text/x-python",
   "name": "python",
   "nbconvert_exporter": "python",
   "pygments_lexer": "ipython3",
   "version": "3.9.12"
  }
 },
 "nbformat": 4,
 "nbformat_minor": 5
}
