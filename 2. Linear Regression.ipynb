{
 "cells": [
  {
   "cell_type": "markdown",
   "id": "37ac2c3f",
   "metadata": {},
   "source": [
    "#### A. Linear Regression\n",
    "- make prediction for house price\n",
    " $$y = w_1*x_1 + w_2*x_2 + ..... + c$$\n",
    "        - x (size of house or number of room etc)\n",
    "        - y (price of house)\n",
    "        - w (weight parameter for modeling)\n",
    "        - c (intercept)\n",
    "        \n",
    "          \n",
    "- **cost function(J)** = predict value(Y) - actual value(A)    \n",
    "\n",
    "$$y_p = prediction-value $$\n",
    "$$y_a = actual-value $$\n",
    "$$H = cost function $$\n",
    "            "
   ]
  },
  {
   "cell_type": "markdown",
   "id": "4d727f29",
   "metadata": {},
   "source": [
    "$$J(\\theta) = \\frac{1}{m} + \\sum_{k=0}^{m} |(Y_p - Y_a)| $$"
   ]
  },
  {
   "cell_type": "markdown",
   "id": "da2dee95",
   "metadata": {},
   "source": [
    "**MSE(mean squared error)** measure average squares of error This calculate with average squared with predict value minus actual value \n"
   ]
  },
  {
   "cell_type": "markdown",
   "id": "538f324d",
   "metadata": {},
   "source": [
    "$$MSE = \\frac{1}{m} + \\sum_{k=0}^{m}(Y_p - Y_a)^2 $$"
   ]
  },
  {
   "cell_type": "markdown",
   "id": "bcf4318d",
   "metadata": {},
   "source": [
    "**Gradient Descent** - optimized algorithm"
   ]
  },
  {
   "cell_type": "markdown",
   "id": "e1589459",
   "metadata": {},
   "source": [
    "$$\\frac{\\partial}{\\partial \\theta} * J(\\theta) = \\frac{\\partial}{m} + \\sum_{k=0}^{m}(Y_p - Y_a)^2)$$"
   ]
  },
  {
   "cell_type": "code",
   "execution_count": null,
   "id": "c5e479f9",
   "metadata": {},
   "outputs": [],
   "source": []
  }
 ],
 "metadata": {
  "kernelspec": {
   "display_name": "Python 3 (ipykernel)",
   "language": "python",
   "name": "python3"
  },
  "language_info": {
   "codemirror_mode": {
    "name": "ipython",
    "version": 3
   },
   "file_extension": ".py",
   "mimetype": "text/x-python",
   "name": "python",
   "nbconvert_exporter": "python",
   "pygments_lexer": "ipython3",
   "version": "3.9.12"
  }
 },
 "nbformat": 4,
 "nbformat_minor": 5
}
