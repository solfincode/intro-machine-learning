{
 "cells": [
  {
   "cell_type": "markdown",
   "id": "37ac2c3f",
   "metadata": {},
   "source": [
    "#### A. Linear Regression\n",
    "- make prediction for house price\n",
    " $$y = w_1*x_1 + w_2*x_2 + ..... + c$$\n",
    "        - x (size of house or number of room etc)\n",
    "        - y (price of house)\n",
    "        - w (weight parameter for modeling)\n",
    "        - c (intercept)\n",
    "        \n",
    "          \n",
    "- **cost function(J)** = predict value(Y) - actual value(A)    \n",
    "\n",
    "            "
   ]
  },
  {
   "cell_type": "markdown",
   "id": "4d727f29",
   "metadata": {},
   "source": [
    "$$J(\\theta) = \\frac{1}{m} * \\sum_{k=0}^{m} |(Y_p - Y_a)| $$"
   ]
  },
  {
   "cell_type": "markdown",
   "id": "da2dee95",
   "metadata": {},
   "source": [
    "**MSE(mean squared error)** measure average squares of error This calculate with average squared with predict value minus actual value \n"
   ]
  },
  {
   "cell_type": "markdown",
   "id": "538f324d",
   "metadata": {},
   "source": [
    "$$MSE = \\frac{1}{m} * \\sum_{k=0}^{m}(Y_p - Y_a)^2 $$"
   ]
  },
  {
   "cell_type": "markdown",
   "id": "bcf4318d",
   "metadata": {},
   "source": [
    "**Gradient Descent** - optimized algorithm used to minimize the loss of fucntion and find the most optimal value"
   ]
  },
  {
   "cell_type": "markdown",
   "id": "d43a0c58",
   "metadata": {},
   "source": [
    "### Terms\n",
    "1. **features:** data point that we use for making prediction\n",
    "2. **labels:** target that we try to predict from features\n",
    "3. **model:** rule or formula that predict the label\n",
    "4. **weights:** each feature is multiplied by corresponding factor\n",
    "5. **bias:** model has constant that is not attached to any of features"
   ]
  },
  {
   "cell_type": "markdown",
   "id": "cd97531a",
   "metadata": {},
   "source": [
    "### how computer run the linear regression model\n",
    "1. pick a random line\n",
    "2. repeat many times\n",
    "3. move the line a little closer to points\n",
    "4. return the line"
   ]
  },
  {
   "cell_type": "markdown",
   "id": "69b123ff",
   "metadata": {},
   "source": [
    "### Example for linear regression"
   ]
  },
  {
   "cell_type": "code",
   "execution_count": 1,
   "id": "371cbbcc",
   "metadata": {},
   "outputs": [
    {
     "data": {
      "image/png": "[encoded data removed]",
      "text/plain": [
       "<Figure size 432x288 with 1 Axes>"
      ]
     },
     "metadata": {
      "needs_background": "light"
     },
     "output_type": "display_data"
    }
   ],
   "source": [
    "#import numpy and matplotlib\n",
    "import numpy as np\n",
    "import matplotlib.pyplot as plt\n",
    "\n",
    "#define features and label\n",
    "features = np.array([1,2,3,6,7,10,15,20])\n",
    "labels = np.array([155,197,244,356,407,448,600,750])\n",
    "\n",
    "#plot\n",
    "plt.scatter(features,labels)\n",
    "plt.show()"
   ]
  },
  {
   "cell_type": "code",
   "execution_count": 2,
   "id": "62a2d9ba",
   "metadata": {},
   "outputs": [
    {
     "data": {
      "image/png": "[encoded data removed]",
      "text/plain": [
       "<Figure size 432x288 with 1 Axes>"
      ]
     },
     "metadata": {
      "needs_background": "light"
     },
     "output_type": "display_data"
    },
    {
     "data": {
      "text/plain": [
       "128"
      ]
     },
     "execution_count": 2,
     "metadata": {},
     "output_type": "execute_result"
    }
   ],
   "source": [
    "import random\n",
    "import matplotlib.pyplot as plt\n",
    "import numpy as np\n",
    "\n",
    "def calculate_cost_func(pred, act):\n",
    "    return abs(pred - act)\n",
    "\n",
    "def generate_array(array,x,y):\n",
    "    for index,value in enumerate(array):\n",
    "        x.append(value[\"x\"])\n",
    "        y.append(value[\"y\"])\n",
    "        \n",
    "def linear_regression(features, labels, epochs):\n",
    "    \n",
    "    x_val = []\n",
    "    y_val = []\n",
    "    \n",
    "    cost_arr = []\n",
    "    sum_cost_val = 0\n",
    "    point_arr = []\n",
    "    \n",
    "    length_of_features = len(features) - 1\n",
    "    \n",
    "    for epoch in range(epochs):\n",
    "        slope = random.randrange(0,1000)\n",
    "        intercept = random.randrange(0,labels[-1]) \n",
    "        \n",
    "        for el in range(length_of_features):\n",
    "            x = features[el]\n",
    "            y = labels[el]\n",
    "            predict_y = slope * x + intercept \n",
    "    \n",
    "            regression_point = {\"x\":x,\"y\":predict_y}\n",
    "            point_arr.append(regression_point)\n",
    "        \n",
    "            sum_cost_val += calculate_cost_func(predict_y ,labels[el])\n",
    "        \n",
    "        #create cost function value array\n",
    "        cost_data = sum_cost_val\n",
    "        #reset sum of cost function value\n",
    "        sum_cost_val = 0\n",
    "        cost_arr.append(cost_data)\n",
    "   \n",
    "    #generate regression point data array\n",
    "    generate_array(point_arr,x_val,y_val)\n",
    "\n",
    "    #find index value when cost function have minimum value\n",
    "    indexVal = cost_arr.index(min(cost_arr))\n",
    "    \n",
    "    #plot prediction model graph\n",
    "    plt.plot(x_val[indexVal*(length_of_features):indexVal*(length_of_features)+length_of_features],y_val[indexVal*(length_of_features):indexVal*(length_of_features)+length_of_features],alpha=0.59,color=\"green\")\n",
    "    \n",
    "    #plot labeled data set\n",
    "    plt.scatter(features,labels,color=\"blue\")\n",
    "    plt.show()\n",
    "    return min(cost_arr)\n",
    "\n",
    "linear_regression(features,labels,10000)"
   ]
  },
  {
   "cell_type": "code",
   "execution_count": null,
   "id": "860653b0",
   "metadata": {},
   "outputs": [],
   "source": []
  },
  {
   "cell_type": "code",
   "execution_count": null,
   "id": "8b2c7638",
   "metadata": {},
   "outputs": [],
   "source": []
  },
  {
   "cell_type": "code",
   "execution_count": null,
   "id": "1578739b",
   "metadata": {},
   "outputs": [],
   "source": []
  }
 ],
 "metadata": {
  "kernelspec": {
   "display_name": "Python 3 (ipykernel)",
   "language": "python",
   "name": "python3"
  },
  "language_info": {
   "codemirror_mode": {
    "name": "ipython",
    "version": 3
   },
   "file_extension": ".py",
   "mimetype": "text/x-python",
   "name": "python",
   "nbconvert_exporter": "python",
   "pygments_lexer": "ipython3",
   "version": "3.9.12"
  }
 },
 "nbformat": 4,
 "nbformat_minor": 5
}
